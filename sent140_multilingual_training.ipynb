{
  "nbformat": 4,
  "nbformat_minor": 0,
  "metadata": {
    "colab": {
      "provenance": [],
      "authorship_tag": "ABX9TyNWqiob0DVkhHAtvRZuPCJ9",
      "include_colab_link": true
    },
    "kernelspec": {
      "name": "python3",
      "display_name": "Python 3"
    },
    "language_info": {
      "name": "python"
    }
  },
  "cells": [
    {
      "cell_type": "markdown",
      "metadata": {
        "id": "view-in-github",
        "colab_type": "text"
      },
      "source": [
        "<a href=\"https://colab.research.google.com/github/HatemMoushir/Sentiment/blob/main/sent140_multilingual_training.ipynb\" target=\"_parent\"><img src=\"https://colab.research.google.com/assets/colab-badge.svg\" alt=\"Open In Colab\"/></a>"
      ]
    },
    {
      "cell_type": "code",
      "execution_count": null,
      "metadata": {
        "id": "cyZsOvikIHFz"
      },
      "outputs": [],
      "source": [
        "\n",
        "# ✅ الخطوة 1: تثبيت المكتبات اللازمة\n",
        "!pip install -q transformers datasets\n",
        "\n",
        "# ✅ الخطوة 2: استيراد الأدوات\n",
        "from datasets import load_dataset, Dataset, concatenate_datasets\n",
        "from transformers import AutoTokenizer, AutoModelForSequenceClassification, TrainingArguments, Trainer\n",
        "import pandas as pd\n",
        "import re\n",
        "\n",
        "# ✅ الخطوة 3: تحميل عينة من بيانات Sentiment140 (1000 إنجليزية)\n",
        "ds_en = load_dataset(\"sentiment140\", split=\"train[:1000]\")\n",
        "ds_en = ds_en.rename_columns({\"text\": \"text\", \"sentiment\": \"label\"})\n",
        "\n",
        "# تحويل labels إلى 0 و 1 فقط\n",
        "ds_en = ds_en.filter(lambda example: example[\"label\"] in [0, 4])\n",
        "ds_en = ds_en.map(lambda x: {\"label\": 0 if x[\"label\"] == 0 else 1})\n",
        "\n",
        "# ✅ الخطوة 4: تحميل AraSenti-Tweet (كلها، ثم نأخذ 1000 عينة عشوائية)\n",
        "ds_ar_full = load_dataset(\"ARBML/AraSenti-Tweet\", split=\"train\")\n",
        "ds_ar = ds_ar_full.shuffle(seed=42).select(range(1000))\n",
        "ds_ar = ds_ar.rename_columns({\"Tweet\": \"text\", \"label\": \"label\"})\n",
        "\n",
        "# ✅ الخطوة 5: تنظيف التويتات (اختياري)\n",
        "def clean_text(example):\n",
        "    text = example[\"text\"]\n",
        "    text = re.sub(r\"http\\S+|www\\S+|@\\w+|#\\w+|[^\\w\\s]\", '', text)  # remove links, mentions, hashtags, punctuations\n",
        "    return {\"text\": text.strip().lower()}\n",
        "\n",
        "ds_en = ds_en.map(clean_text)\n",
        "ds_ar = ds_ar.map(clean_text)\n",
        "\n",
        "# ✅ الخطوة 6: دمج الداتا\n",
        "full_ds = concatenate_datasets([ds_en, ds_ar]).shuffle(seed=123)\n",
        "\n",
        "# ✅ الخطوة 7: تحميل Tokenizer\n",
        "model_name = \"bert-base-multilingual-cased\"\n",
        "tokenizer = AutoTokenizer.from_pretrained(model_name)\n",
        "\n",
        "def tokenize(example):\n",
        "    return tokenizer(example[\"text\"], truncation=True, padding=\"max_length\", max_length=128)\n",
        "\n",
        "tokenized_ds = full_ds.map(tokenize, batched=True)\n",
        "\n",
        "# ✅ الخطوة 8: تقسيم التدريب والاختبار\n",
        "split = tokenized_ds.train_test_split(test_size=0.1, seed=123)\n",
        "train_ds = split[\"train\"]\n",
        "test_ds = split[\"test\"]\n",
        "\n",
        "# ✅ الخطوة 9: تحميل النموذج\n",
        "model = AutoModelForSequenceClassification.from_pretrained(model_name, num_labels=2)\n",
        "\n",
        "# ✅ الخطوة 10: إعدادات التدريب\n",
        "training_args = TrainingArguments(\n",
        "    output_dir=\"./results\",\n",
        "    evaluation_strategy=\"epoch\",\n",
        "    save_strategy=\"epoch\",\n",
        "    learning_rate=2e-5,\n",
        "    per_device_train_batch_size=16,\n",
        "    per_device_eval_batch_size=16,\n",
        "    num_train_epochs=2,\n",
        "    weight_decay=0.01,\n",
        "    logging_steps=10,\n",
        "    load_best_model_at_end=True,\n",
        ")\n",
        "\n",
        "# ✅ الخطوة 11: تعريف المدرب Trainer\n",
        "trainer = Trainer(\n",
        "    model=model,\n",
        "    args=training_args,\n",
        "    train_dataset=train_ds,\n",
        "    eval_dataset=test_ds,\n",
        "    tokenizer=tokenizer,\n",
        ")\n",
        "\n",
        "# ✅ الخطوة 12: بدء التدريب\n",
        "trainer.train()"
      ]
    }
  ]
}